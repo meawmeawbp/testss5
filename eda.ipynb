{
 "cells": [
  {
   "cell_type": "code",
   "execution_count": 1,
   "id": "969d727f",
   "metadata": {},
   "outputs": [],
   "source": [
    "import pandas as pd\n",
    "import matplotlib.pyplot as plt\n",
    "import seaborn as sns"
   ]
  },
  {
   "cell_type": "code",
   "execution_count": null,
   "id": "d6f7399a",
   "metadata": {},
   "outputs": [],
   "source": [
    "\n",
    "\n",
    "# ✅ Load dataset\n",
    "df = pd.read_csv(\"ชื่อไฟล์.csv\")\n",
    "\n",
    "# ✅ ขนาดของข้อมูล\n",
    "print(\"🔹 Shape:\", df.shape)\n",
    "print(\"🔹 Columns:\", df.columns.tolist())\n",
    "\n",
    "# ✅ ตัวอย่างข้อมูล\n",
    "print(\"\\n🔹 ตัวอย่างข้อมูล:\")\n",
    "print(df.head())\n",
    "\n",
    "# ✅ ประเภทของแต่ละ column\n",
    "print(\"\\n🔹 Data types:\")\n",
    "print(df.dtypes)\n",
    "\n",
    "# ✅ ข้อมูลหาย (Missing Values)\n",
    "print(\"\\n🔹 Missing values:\")\n",
    "print(df.isnull().sum())\n",
    "\n",
    "# ✅ ค่าสถิติพื้นฐาน\n",
    "print(\"\\n🔹 Summary statistics:\")\n",
    "print(df.describe(include='all'))\n",
    "\n",
    "# ✅ จำนวนค่าที่ไม่ซ้ำในแต่ละคอลัมน์\n",
    "print(\"\\n🔹 Unique values per column:\")\n",
    "print(df.nunique())\n",
    "\n",
    "# ✅ แผนที่ missing\n",
    "sns.heatmap(df.isnull(), cbar=False)\n",
    "plt.title(\"Missing Data Heatmap\")\n",
    "plt.show()\n",
    "\n",
    "# ✅ Distribution ของตัวเลข\n",
    "numeric_cols = df.select_dtypes(include='number').columns\n",
    "df[numeric_cols].hist(bins=30, figsize=(14, 8))\n",
    "plt.suptitle(\"Numeric Distributions\", fontsize=16)\n",
    "plt.show()\n",
    "\n",
    "# ✅ Correlation Matrix (ถ้ามี numerical data)\n",
    "if len(numeric_cols) > 1:\n",
    "    plt.figure(figsize=(10, 6))\n",
    "    sns.heatmap(df[numeric_cols].corr(), annot=True, fmt=\".2f\", cmap=\"coolwarm\")\n",
    "    plt.title(\"Correlation Matrix\")\n",
    "    plt.show()\n"
   ]
  },
  {
   "cell_type": "markdown",
   "id": "b695d424",
   "metadata": {},
   "source": [
    "เวลา"
   ]
  },
  {
   "cell_type": "code",
   "execution_count": null,
   "id": "65989233",
   "metadata": {},
   "outputs": [],
   "source": [
    "if 'datetime' in df.columns:\n",
    "    df['datetime'] = pd.to_datetime(df['datetime'])\n",
    "    df['hour'] = df['datetime'].dt.hour\n",
    "    df['dayofweek'] = df['datetime'].dt.dayofweek\n",
    "    sns.histplot(df['hour'])\n",
    "    plt.title(\"Hour Distribution\")\n",
    "    plt.show()\n"
   ]
  }
 ],
 "metadata": {
  "kernelspec": {
   "display_name": "Python 3",
   "language": "python",
   "name": "python3"
  },
  "language_info": {
   "codemirror_mode": {
    "name": "ipython",
    "version": 3
   },
   "file_extension": ".py",
   "mimetype": "text/x-python",
   "name": "python",
   "nbconvert_exporter": "python",
   "pygments_lexer": "ipython3",
   "version": "3.13.5"
  }
 },
 "nbformat": 4,
 "nbformat_minor": 5
}
